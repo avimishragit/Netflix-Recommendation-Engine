{
 "cells": [
  {
   "cell_type": "markdown",
   "id": "14675bdb-30b0-4e05-bf6a-1cabd68cdab7",
   "metadata": {},
   "source": [
    "# Problem Statement\n",
    "Customer Behaviour and it’s prediction lies \r\n",
    "at the core of every Business Model. From \r\n",
    "Stock Exchange, e-Commerce and \r\n",
    "Automobile to even Presidential Elections, \r\n",
    "predictions serve a great purpose. Most of \r\n",
    "these predictions are based on the data \r\n",
    "available about a person’s activity either \r\n",
    "online or in-\n",
    "\n",
    "\n",
    "Recommendation Engines are the much \r\n",
    "needed manifestations of the desired \r\n",
    "Predictability of User Activity. \r\n",
    "Recommendation Engines move one step \r\n",
    "further and not only give information but \r\n",
    "put forth strategies to further increase users \r\n",
    "interaction with the pla\n",
    "\n",
    "In today’s world OTT platform and Streaming \r\n",
    "Services have taken up a big chunk in the \r\n",
    "Retail and Entertainment industry. \r\n",
    "Organizations like Netflix, Amazon etc. \r\n",
    "analyse User Activity Pattern’s and suggest \r\n",
    "products that better suit the user needs and \r\n",
    "ch\n",
    "\n",
    " For the purpose of this Project we will be \r\n",
    "creating one such Recommendation Engine \r\n",
    "from the ground-up, where every single user, \r\n",
    "based on there area of interest and ratings, \r\n",
    "would be recommended a list of movies that \r\n",
    "are best suited for them.oices.tform.person."
   ]
  },
  {
   "cell_type": "markdown",
   "id": "accf993f-1a30-4039-bc6d-0db8ce459203",
   "metadata": {},
   "source": [
    "## Dataset Information\n",
    "1. ID–Contains the separate keys for \r\n",
    "customer and movies. \r\n",
    "2. Rating– A section contains the user \r\n",
    "ratings for all the movies. \r\n",
    "movie. \r\n",
    "3. Genre–Highlights the category of the \r\n",
    "4. Movie Name–Name of the movie with \r\n",
    "respect to the movie id."
   ]
  },
  {
   "cell_type": "markdown",
   "id": "dbeb1b1b-3875-4bae-8947-4204e85ed1db",
   "metadata": {},
   "source": [
    "# Objective \n",
    "1. Find out the list of most popular and liked genre\r\n",
    " 2. Create Model that finds the best suited Movie for one \r\n",
    "user in every genre.\r\n",
    " 3. Find what Genre Movies have received the best and \r\n",
    "worst ratings based on User Rating."
   ]
  },
  {
   "cell_type": "raw",
   "id": "b8cb066a-de59-420e-8cf3-e4565331101b",
   "metadata": {},
   "source": [
    "----- Project Outline -----\n",
    "\n",
    "1. Imports and project setup\n",
    "2. Data Acquisition and Preparation\n",
    "    a. Data Injection and Quality Check\n",
    "    b. Data Cleaning\n",
    "        . Data type detection \n",
    "        . Missing values imputation/ removal/ flagging\n",
    "        . Duplicates deletion\n",
    "        . Categorical data handling\n",
    "        . Data type conversion\n",
    "         \n",
    "    c. Exploratory Data Analysis (EDA)\n",
    "        . Statistical Understanding of data\n",
    "            - Summary data Analysis\n",
    "            - Univariate Analysis\n",
    "            - Bivariate Analysis\n",
    "            - Categorical Data Analysis\n",
    "        . Distribution Analysis\n",
    "            - Stationarity test\n",
    "            - Normality test\n",
    "\n",
    "    d. Data Transformation\n",
    "        . Feature Engineering : Feature selection/ creation/ transformation\n",
    "        . Standardisation/ Normalization\n",
    "\n",
    "3. Model (SVD) and Metric Selection \n",
    "    a. Brute force\n",
    "        - split data\n",
    "        - train\n",
    "        - evaluate\n",
    "    b. cross validate\n",
    "    c. hyperparameter tuning\n",
    "    d. Best parameter creation\n",
    "\n",
    "4. Best model creation\n",
    "\n",
    "5. Serialize and Save Model \n",
    "\n",
    "6. Insight Aggregation \n",
    "\n",
    "7. Inference\n",
    "\n",
    "8. Creating Pipeline\n",
    "\n",
    "9. Report Creation and Submission\n"
   ]
  },
  {
   "cell_type": "markdown",
   "id": "e3403114-f58d-49eb-afd9-af3441b830d0",
   "metadata": {},
   "source": [
    "### Project Setup and Imports"
   ]
  },
  {
   "cell_type": "code",
   "execution_count": 5,
   "id": "e198556f-74ff-453f-97b6-221b5063b778",
   "metadata": {},
   "outputs": [],
   "source": [
    "import pandas as pd\n",
    "import numpy as np\n",
    "from sklearn.model_selection import train_test_split\n",
    "from sklearn.metrics import mean_squared_error\n",
    "from surprise import Reader, Dataset, SVD, accuracy\n",
    "from surprise.model_selection import cross_validate, GridSearchCV\n",
    "import pickle"
   ]
  },
  {
   "cell_type": "code",
   "execution_count": 6,
   "id": "74dc94a0-daeb-407c-a23c-f9a2f149991a",
   "metadata": {},
   "outputs": [],
   "source": [
    "import matplotlib.pyplot as plt\n",
    "import seaborn as sns"
   ]
  },
  {
   "cell_type": "markdown",
   "id": "b1bf683c-eadd-4edb-a0d8-a55c91869573",
   "metadata": {},
   "source": [
    "### Data Acquisition and Preparation"
   ]
  },
  {
   "cell_type": "code",
   "execution_count": 8,
   "id": "6032f6f5-9472-45e6-82cf-83985009d306",
   "metadata": {},
   "outputs": [],
   "source": [
    "movies_df = pd.read_csv('movies.csv')\n",
    "ratings_df = pd.read_csv('ratings.csv')"
   ]
  },
  {
   "cell_type": "code",
   "execution_count": 9,
   "id": "457576e4-4ca1-47aa-9751-85527f8b64b6",
   "metadata": {},
   "outputs": [
    {
     "data": {
      "text/html": [
       "<div>\n",
       "<style scoped>\n",
       "    .dataframe tbody tr th:only-of-type {\n",
       "        vertical-align: middle;\n",
       "    }\n",
       "\n",
       "    .dataframe tbody tr th {\n",
       "        vertical-align: top;\n",
       "    }\n",
       "\n",
       "    .dataframe thead th {\n",
       "        text-align: right;\n",
       "    }\n",
       "</style>\n",
       "<table border=\"1\" class=\"dataframe\">\n",
       "  <thead>\n",
       "    <tr style=\"text-align: right;\">\n",
       "      <th></th>\n",
       "      <th>movieId</th>\n",
       "      <th>title</th>\n",
       "      <th>genres</th>\n",
       "    </tr>\n",
       "  </thead>\n",
       "  <tbody>\n",
       "    <tr>\n",
       "      <th>0</th>\n",
       "      <td>1</td>\n",
       "      <td>Toy Story (1995)</td>\n",
       "      <td>Adventure|Animation|Children|Comedy|Fantasy</td>\n",
       "    </tr>\n",
       "    <tr>\n",
       "      <th>1</th>\n",
       "      <td>2</td>\n",
       "      <td>Jumanji (1995)</td>\n",
       "      <td>Adventure|Children|Fantasy</td>\n",
       "    </tr>\n",
       "    <tr>\n",
       "      <th>2</th>\n",
       "      <td>3</td>\n",
       "      <td>Grumpier Old Men (1995)</td>\n",
       "      <td>Comedy|Romance</td>\n",
       "    </tr>\n",
       "    <tr>\n",
       "      <th>3</th>\n",
       "      <td>4</td>\n",
       "      <td>Waiting to Exhale (1995)</td>\n",
       "      <td>Comedy|Drama|Romance</td>\n",
       "    </tr>\n",
       "    <tr>\n",
       "      <th>4</th>\n",
       "      <td>5</td>\n",
       "      <td>Father of the Bride Part II (1995)</td>\n",
       "      <td>Comedy</td>\n",
       "    </tr>\n",
       "  </tbody>\n",
       "</table>\n",
       "</div>"
      ],
      "text/plain": [
       "   movieId                               title  \\\n",
       "0        1                    Toy Story (1995)   \n",
       "1        2                      Jumanji (1995)   \n",
       "2        3             Grumpier Old Men (1995)   \n",
       "3        4            Waiting to Exhale (1995)   \n",
       "4        5  Father of the Bride Part II (1995)   \n",
       "\n",
       "                                        genres  \n",
       "0  Adventure|Animation|Children|Comedy|Fantasy  \n",
       "1                   Adventure|Children|Fantasy  \n",
       "2                               Comedy|Romance  \n",
       "3                         Comedy|Drama|Romance  \n",
       "4                                       Comedy  "
      ]
     },
     "metadata": {},
     "output_type": "display_data"
    },
    {
     "data": {
      "text/html": [
       "<div>\n",
       "<style scoped>\n",
       "    .dataframe tbody tr th:only-of-type {\n",
       "        vertical-align: middle;\n",
       "    }\n",
       "\n",
       "    .dataframe tbody tr th {\n",
       "        vertical-align: top;\n",
       "    }\n",
       "\n",
       "    .dataframe thead th {\n",
       "        text-align: right;\n",
       "    }\n",
       "</style>\n",
       "<table border=\"1\" class=\"dataframe\">\n",
       "  <thead>\n",
       "    <tr style=\"text-align: right;\">\n",
       "      <th></th>\n",
       "      <th>userId</th>\n",
       "      <th>movieId</th>\n",
       "      <th>rating</th>\n",
       "      <th>timestamp</th>\n",
       "    </tr>\n",
       "  </thead>\n",
       "  <tbody>\n",
       "    <tr>\n",
       "      <th>0</th>\n",
       "      <td>1</td>\n",
       "      <td>2</td>\n",
       "      <td>3.5</td>\n",
       "      <td>1112486027</td>\n",
       "    </tr>\n",
       "    <tr>\n",
       "      <th>1</th>\n",
       "      <td>1</td>\n",
       "      <td>29</td>\n",
       "      <td>3.5</td>\n",
       "      <td>1112484676</td>\n",
       "    </tr>\n",
       "    <tr>\n",
       "      <th>2</th>\n",
       "      <td>1</td>\n",
       "      <td>32</td>\n",
       "      <td>3.5</td>\n",
       "      <td>1112484819</td>\n",
       "    </tr>\n",
       "    <tr>\n",
       "      <th>3</th>\n",
       "      <td>1</td>\n",
       "      <td>47</td>\n",
       "      <td>3.5</td>\n",
       "      <td>1112484727</td>\n",
       "    </tr>\n",
       "    <tr>\n",
       "      <th>4</th>\n",
       "      <td>1</td>\n",
       "      <td>50</td>\n",
       "      <td>3.5</td>\n",
       "      <td>1112484580</td>\n",
       "    </tr>\n",
       "  </tbody>\n",
       "</table>\n",
       "</div>"
      ],
      "text/plain": [
       "   userId  movieId  rating   timestamp\n",
       "0       1        2     3.5  1112486027\n",
       "1       1       29     3.5  1112484676\n",
       "2       1       32     3.5  1112484819\n",
       "3       1       47     3.5  1112484727\n",
       "4       1       50     3.5  1112484580"
      ]
     },
     "metadata": {},
     "output_type": "display_data"
    }
   ],
   "source": [
    "display(movies_df.head())\n",
    "display(ratings_df.head())"
   ]
  },
  {
   "cell_type": "markdown",
   "id": "d2e5ab87-4d30-40c2-a644-60ed733ae8af",
   "metadata": {},
   "source": [
    "### Data Quality Check"
   ]
  },
  {
   "cell_type": "code",
   "execution_count": 11,
   "id": "3e5781b6-9abd-49cb-8b30-7a30ffd8fd14",
   "metadata": {},
   "outputs": [
    {
     "name": "stdout",
     "output_type": "stream",
     "text": [
      "Movies Data Info:\n",
      "<class 'pandas.core.frame.DataFrame'>\n",
      "RangeIndex: 27278 entries, 0 to 27277\n",
      "Data columns (total 3 columns):\n",
      " #   Column   Non-Null Count  Dtype \n",
      "---  ------   --------------  ----- \n",
      " 0   movieId  27278 non-null  int64 \n",
      " 1   title    27278 non-null  object\n",
      " 2   genres   27278 non-null  object\n",
      "dtypes: int64(1), object(2)\n",
      "memory usage: 639.5+ KB\n",
      "None\n",
      "\n",
      "Ratings Data Info:\n",
      "<class 'pandas.core.frame.DataFrame'>\n",
      "RangeIndex: 1048575 entries, 0 to 1048574\n",
      "Data columns (total 4 columns):\n",
      " #   Column     Non-Null Count    Dtype  \n",
      "---  ------     --------------    -----  \n",
      " 0   userId     1048575 non-null  int64  \n",
      " 1   movieId    1048575 non-null  int64  \n",
      " 2   rating     1048575 non-null  float64\n",
      " 3   timestamp  1048575 non-null  int64  \n",
      "dtypes: float64(1), int64(3)\n",
      "memory usage: 32.0 MB\n",
      "None\n"
     ]
    }
   ],
   "source": [
    "print(\"Movies Data Info:\")\n",
    "print(movies_df.info())\n",
    "print(\"\\nRatings Data Info:\")\n",
    "print(ratings_df.info())"
   ]
  },
  {
   "cell_type": "markdown",
   "id": "aaf6c3af-16cf-4554-b796-eccbacff6a69",
   "metadata": {},
   "source": [
    "#### Data Cleaning"
   ]
  },
  {
   "cell_type": "code",
   "execution_count": 13,
   "id": "4bf7a7ac-bb23-4ce1-a716-3b08586b52b9",
   "metadata": {},
   "outputs": [
    {
     "name": "stdout",
     "output_type": "stream",
     "text": [
      "\n",
      "Movies Missing Values:\n",
      "movieId    0\n",
      "title      0\n",
      "genres     0\n",
      "dtype: int64\n",
      "\n",
      "Ratings Missing Values:\n",
      "userId       0\n",
      "movieId      0\n",
      "rating       0\n",
      "timestamp    0\n",
      "dtype: int64\n"
     ]
    }
   ],
   "source": [
    "print(\"\\nMovies Missing Values:\")\n",
    "print(movies_df.isnull().sum())\n",
    "print(\"\\nRatings Missing Values:\")\n",
    "print(ratings_df.isnull().sum())"
   ]
  },
  {
   "cell_type": "markdown",
   "id": "70a647af-ab11-4b58-98d7-934e9b32c48f",
   "metadata": {},
   "source": [
    "#### Duplicate Removal"
   ]
  },
  {
   "cell_type": "code",
   "execution_count": 15,
   "id": "eac619fe-acef-4ea2-94ad-0cd10385b583",
   "metadata": {},
   "outputs": [
    {
     "name": "stdout",
     "output_type": "stream",
     "text": [
      "0\n",
      "0\n"
     ]
    }
   ],
   "source": [
    "print(movies_df.duplicated().sum())\n",
    "print(ratings_df.duplicated().sum())"
   ]
  },
  {
   "cell_type": "code",
   "execution_count": 16,
   "id": "be0bd481-9b15-403b-9338-0b125ffd964f",
   "metadata": {},
   "outputs": [],
   "source": [
    "movies_df.drop_duplicates(inplace=True)\n",
    "ratings_df.drop_duplicates(inplace=True)"
   ]
  },
  {
   "cell_type": "markdown",
   "id": "45f9824c-b2e9-4549-b2c9-f8dd978c85fc",
   "metadata": {},
   "source": [
    "#### Categorical Data Handling"
   ]
  },
  {
   "cell_type": "code",
   "execution_count": 18,
   "id": "e774af08-da91-447a-a0a0-60861fdef179",
   "metadata": {},
   "outputs": [],
   "source": [
    "original_movies_df = movies_df.copy()\n",
    "original_ratings_df = ratings_df.copy()"
   ]
  },
  {
   "cell_type": "code",
   "execution_count": 19,
   "id": "58e90b84-9d78-4037-b6b0-af6846e2c78e",
   "metadata": {},
   "outputs": [
    {
     "data": {
      "text/plain": [
       "0        Adventure|Animation|Children|Comedy|Fantasy\n",
       "1                         Adventure|Children|Fantasy\n",
       "2                                     Comedy|Romance\n",
       "3                               Comedy|Drama|Romance\n",
       "4                                             Comedy\n",
       "                            ...                     \n",
       "27273                                         Comedy\n",
       "27274                                         Comedy\n",
       "27275                                      Adventure\n",
       "27276                             (no genres listed)\n",
       "27277                       Adventure|Fantasy|Horror\n",
       "Name: genres, Length: 27278, dtype: object"
      ]
     },
     "execution_count": 19,
     "metadata": {},
     "output_type": "execute_result"
    }
   ],
   "source": [
    "movies_df['genres']"
   ]
  },
  {
   "cell_type": "code",
   "execution_count": 20,
   "id": "a0622685-19d2-4632-b42f-51fb69c0a04d",
   "metadata": {},
   "outputs": [
    {
     "data": {
      "text/plain": [
       "0        [Adventure, Animation, Children, Comedy, Fantasy]\n",
       "1                           [Adventure, Children, Fantasy]\n",
       "2                                        [Comedy, Romance]\n",
       "3                                 [Comedy, Drama, Romance]\n",
       "4                                                 [Comedy]\n",
       "                               ...                        \n",
       "27273                                             [Comedy]\n",
       "27274                                             [Comedy]\n",
       "27275                                          [Adventure]\n",
       "27276                                 [(no genres listed)]\n",
       "27277                         [Adventure, Fantasy, Horror]\n",
       "Name: genres, Length: 27278, dtype: object"
      ]
     },
     "execution_count": 20,
     "metadata": {},
     "output_type": "execute_result"
    }
   ],
   "source": [
    "movies_df['genres'].str.split('|')"
   ]
  },
  {
   "cell_type": "code",
   "execution_count": 21,
   "id": "5e915b9d-fb22-4d27-9ee0-c17fa5007f65",
   "metadata": {},
   "outputs": [
    {
     "data": {
      "text/plain": [
       "{'(no genres listed)',\n",
       " 'Action',\n",
       " 'Adventure',\n",
       " 'Animation',\n",
       " 'Children',\n",
       " 'Comedy',\n",
       " 'Crime',\n",
       " 'Documentary',\n",
       " 'Drama',\n",
       " 'Fantasy',\n",
       " 'Film-Noir',\n",
       " 'Horror',\n",
       " 'IMAX',\n",
       " 'Musical',\n",
       " 'Mystery',\n",
       " 'Romance',\n",
       " 'Sci-Fi',\n",
       " 'Thriller',\n",
       " 'War',\n",
       " 'Western'}"
      ]
     },
     "execution_count": 21,
     "metadata": {},
     "output_type": "execute_result"
    }
   ],
   "source": [
    "genres = movies_df['genres'].str.split('|').explode('genres')\n",
    "genres = set(genres)\n",
    "genres"
   ]
  },
  {
   "cell_type": "code",
   "execution_count": 22,
   "id": "7c9db8f5-d8a7-47c6-ba53-3de6b3b48a94",
   "metadata": {},
   "outputs": [
    {
     "data": {
      "text/html": [
       "<div>\n",
       "<style scoped>\n",
       "    .dataframe tbody tr th:only-of-type {\n",
       "        vertical-align: middle;\n",
       "    }\n",
       "\n",
       "    .dataframe tbody tr th {\n",
       "        vertical-align: top;\n",
       "    }\n",
       "\n",
       "    .dataframe thead th {\n",
       "        text-align: right;\n",
       "    }\n",
       "</style>\n",
       "<table border=\"1\" class=\"dataframe\">\n",
       "  <thead>\n",
       "    <tr style=\"text-align: right;\">\n",
       "      <th></th>\n",
       "      <th>movieId</th>\n",
       "      <th>title</th>\n",
       "      <th>genres</th>\n",
       "    </tr>\n",
       "  </thead>\n",
       "  <tbody>\n",
       "    <tr>\n",
       "      <th>0</th>\n",
       "      <td>1</td>\n",
       "      <td>Toy Story (1995)</td>\n",
       "      <td>Adventure</td>\n",
       "    </tr>\n",
       "    <tr>\n",
       "      <th>0</th>\n",
       "      <td>1</td>\n",
       "      <td>Toy Story (1995)</td>\n",
       "      <td>Animation</td>\n",
       "    </tr>\n",
       "    <tr>\n",
       "      <th>0</th>\n",
       "      <td>1</td>\n",
       "      <td>Toy Story (1995)</td>\n",
       "      <td>Children</td>\n",
       "    </tr>\n",
       "    <tr>\n",
       "      <th>0</th>\n",
       "      <td>1</td>\n",
       "      <td>Toy Story (1995)</td>\n",
       "      <td>Comedy</td>\n",
       "    </tr>\n",
       "    <tr>\n",
       "      <th>0</th>\n",
       "      <td>1</td>\n",
       "      <td>Toy Story (1995)</td>\n",
       "      <td>Fantasy</td>\n",
       "    </tr>\n",
       "    <tr>\n",
       "      <th>...</th>\n",
       "      <td>...</td>\n",
       "      <td>...</td>\n",
       "      <td>...</td>\n",
       "    </tr>\n",
       "    <tr>\n",
       "      <th>27275</th>\n",
       "      <td>131258</td>\n",
       "      <td>The Pirates (2014)</td>\n",
       "      <td>Adventure</td>\n",
       "    </tr>\n",
       "    <tr>\n",
       "      <th>27276</th>\n",
       "      <td>131260</td>\n",
       "      <td>Rentun Ruusu (2001)</td>\n",
       "      <td>(no genres listed)</td>\n",
       "    </tr>\n",
       "    <tr>\n",
       "      <th>27277</th>\n",
       "      <td>131262</td>\n",
       "      <td>Innocence (2014)</td>\n",
       "      <td>Adventure</td>\n",
       "    </tr>\n",
       "    <tr>\n",
       "      <th>27277</th>\n",
       "      <td>131262</td>\n",
       "      <td>Innocence (2014)</td>\n",
       "      <td>Fantasy</td>\n",
       "    </tr>\n",
       "    <tr>\n",
       "      <th>27277</th>\n",
       "      <td>131262</td>\n",
       "      <td>Innocence (2014)</td>\n",
       "      <td>Horror</td>\n",
       "    </tr>\n",
       "  </tbody>\n",
       "</table>\n",
       "<p>54406 rows × 3 columns</p>\n",
       "</div>"
      ],
      "text/plain": [
       "       movieId                title              genres\n",
       "0            1     Toy Story (1995)           Adventure\n",
       "0            1     Toy Story (1995)           Animation\n",
       "0            1     Toy Story (1995)            Children\n",
       "0            1     Toy Story (1995)              Comedy\n",
       "0            1     Toy Story (1995)             Fantasy\n",
       "...        ...                  ...                 ...\n",
       "27275   131258   The Pirates (2014)           Adventure\n",
       "27276   131260  Rentun Ruusu (2001)  (no genres listed)\n",
       "27277   131262     Innocence (2014)           Adventure\n",
       "27277   131262     Innocence (2014)             Fantasy\n",
       "27277   131262     Innocence (2014)              Horror\n",
       "\n",
       "[54406 rows x 3 columns]"
      ]
     },
     "execution_count": 22,
     "metadata": {},
     "output_type": "execute_result"
    }
   ],
   "source": [
    "movies_df['genres'] = movies_df['genres'].str.split('|')\n",
    "movies_df_expanded = movies_df.explode('genres')\n",
    "movies_df_expanded"
   ]
  },
  {
   "cell_type": "code",
   "execution_count": 23,
   "id": "ed8d836f-64b2-4179-9edd-167c5c3afe85",
   "metadata": {},
   "outputs": [
    {
     "data": {
      "text/html": [
       "<div>\n",
       "<style scoped>\n",
       "    .dataframe tbody tr th:only-of-type {\n",
       "        vertical-align: middle;\n",
       "    }\n",
       "\n",
       "    .dataframe tbody tr th {\n",
       "        vertical-align: top;\n",
       "    }\n",
       "\n",
       "    .dataframe thead th {\n",
       "        text-align: right;\n",
       "    }\n",
       "</style>\n",
       "<table border=\"1\" class=\"dataframe\">\n",
       "  <thead>\n",
       "    <tr style=\"text-align: right;\">\n",
       "      <th></th>\n",
       "      <th>movieId</th>\n",
       "      <th>title</th>\n",
       "      <th>genres</th>\n",
       "      <th>year</th>\n",
       "    </tr>\n",
       "  </thead>\n",
       "  <tbody>\n",
       "    <tr>\n",
       "      <th>0</th>\n",
       "      <td>1</td>\n",
       "      <td>Toy Story (1995)</td>\n",
       "      <td>[Adventure, Animation, Children, Comedy, Fantasy]</td>\n",
       "      <td>1995</td>\n",
       "    </tr>\n",
       "    <tr>\n",
       "      <th>1</th>\n",
       "      <td>2</td>\n",
       "      <td>Jumanji (1995)</td>\n",
       "      <td>[Adventure, Children, Fantasy]</td>\n",
       "      <td>1995</td>\n",
       "    </tr>\n",
       "    <tr>\n",
       "      <th>2</th>\n",
       "      <td>3</td>\n",
       "      <td>Grumpier Old Men (1995)</td>\n",
       "      <td>[Comedy, Romance]</td>\n",
       "      <td>1995</td>\n",
       "    </tr>\n",
       "    <tr>\n",
       "      <th>3</th>\n",
       "      <td>4</td>\n",
       "      <td>Waiting to Exhale (1995)</td>\n",
       "      <td>[Comedy, Drama, Romance]</td>\n",
       "      <td>1995</td>\n",
       "    </tr>\n",
       "    <tr>\n",
       "      <th>4</th>\n",
       "      <td>5</td>\n",
       "      <td>Father of the Bride Part II (1995)</td>\n",
       "      <td>[Comedy]</td>\n",
       "      <td>1995</td>\n",
       "    </tr>\n",
       "  </tbody>\n",
       "</table>\n",
       "</div>"
      ],
      "text/plain": [
       "   movieId                               title  \\\n",
       "0        1                    Toy Story (1995)   \n",
       "1        2                      Jumanji (1995)   \n",
       "2        3             Grumpier Old Men (1995)   \n",
       "3        4            Waiting to Exhale (1995)   \n",
       "4        5  Father of the Bride Part II (1995)   \n",
       "\n",
       "                                              genres  year  \n",
       "0  [Adventure, Animation, Children, Comedy, Fantasy]  1995  \n",
       "1                     [Adventure, Children, Fantasy]  1995  \n",
       "2                                  [Comedy, Romance]  1995  \n",
       "3                           [Comedy, Drama, Romance]  1995  \n",
       "4                                           [Comedy]  1995  "
      ]
     },
     "execution_count": 23,
     "metadata": {},
     "output_type": "execute_result"
    }
   ],
   "source": [
    "movies_df['year'] = movies_df['title'].str.extract(r'\\((\\d{4})\\)', expand=False)\n",
    "movies_df.head()"
   ]
  },
  {
   "cell_type": "code",
   "execution_count": 24,
   "id": "b4f19821-28ac-4769-925b-e34787ebdc45",
   "metadata": {},
   "outputs": [
    {
     "data": {
      "text/plain": [
       "22"
      ]
     },
     "execution_count": 24,
     "metadata": {},
     "output_type": "execute_result"
    }
   ],
   "source": [
    "movies_df['year'] = pd.to_numeric(movies_df['year'], errors='coerce')\n",
    "movies_df['year'].isnull().sum()"
   ]
  },
  {
   "cell_type": "code",
   "execution_count": 25,
   "id": "3aa944f3-0be9-4ab3-adc1-e1c26df9bf0c",
   "metadata": {},
   "outputs": [
    {
     "data": {
      "text/plain": [
       "(array([1995., 1994., 1996., 1976., 1992., 1988., 1967., 1993., 1964.,\n",
       "        1977., 1965., 1982., 1985., 1990., 1991., 1989., 1937., 1940.,\n",
       "        1969., 1981., 1973., 1970., 1960., 1955., 1959., 1968., 1980.,\n",
       "        1975., 1986., 1948., 1943., 1950., 1946., 1987., 1997., 1974.,\n",
       "        1956., 1958., 1949., 1972., 1998., 1933., 1952., 1951., 1957.,\n",
       "        1961., 1954., 1934., 1944., 1963., 1942., 1941., 1953., 1939.,\n",
       "        1947., 1945., 1938., 1935., 1936., 1926., 1932., 1979., 1971.,\n",
       "        1978., 1966., 1962., 1983., 1984., 1931., 1922., 1999., 1927.,\n",
       "        1929., 1930., 1928., 1925., 1914., 2000., 1919., 1923., 1920.,\n",
       "        1918., 1921., 2001., 1924., 2002., 2003., 1915., 2004., 1916.,\n",
       "        1917., 2005., 2006., 1902.,   nan, 1903., 2007., 2008., 2009.,\n",
       "        1912., 2010., 1913., 2011., 1898., 1899., 1894., 2012., 1909.,\n",
       "        1910., 1901., 1893., 2013., 1896., 2014., 1895., 2015., 1900.,\n",
       "        1905., 1891.]),\n",
       " 118)"
      ]
     },
     "execution_count": 25,
     "metadata": {},
     "output_type": "execute_result"
    }
   ],
   "source": [
    "movies_df['year'].unique(), movies_df['year'].nunique()"
   ]
  },
  {
   "cell_type": "markdown",
   "id": "91349475-3076-4344-8ea3-f7131aa2de9e",
   "metadata": {},
   "source": [
    "#### Data type conversion"
   ]
  },
  {
   "cell_type": "code",
   "execution_count": 27,
   "id": "1d2b31de-2f54-4c23-81e3-8fb3000eb82c",
   "metadata": {},
   "outputs": [
    {
     "data": {
      "text/plain": [
       "(movieId      int64\n",
       " title       object\n",
       " genres      object\n",
       " year       float64\n",
       " dtype: object,\n",
       " userId         int64\n",
       " movieId        int64\n",
       " rating       float64\n",
       " timestamp      int64\n",
       " dtype: object)"
      ]
     },
     "execution_count": 27,
     "metadata": {},
     "output_type": "execute_result"
    }
   ],
   "source": [
    "movies_df.dtypes, ratings_df.dtypes"
   ]
  },
  {
   "cell_type": "code",
   "execution_count": 28,
   "id": "6fba3b45-6903-4791-868a-803ba7e92791",
   "metadata": {},
   "outputs": [
    {
     "name": "stdout",
     "output_type": "stream",
     "text": [
      "\n",
      "Movie df memory:  7225389\n",
      "\n",
      "Rating df memory:  33554532\n",
      "\n",
      "Movie df memory:  8226456\n",
      "\n",
      "Rating df memory:  16777332 \n",
      "\n",
      "movieId             int32\n",
      "title            category\n",
      "genres             object\n",
      "year       datetime64[ns]\n",
      "dtype: object\n",
      "userId         int32\n",
      "movieId        int32\n",
      "rating       float32\n",
      "timestamp      int32\n",
      "dtype: object\n"
     ]
    }
   ],
   "source": [
    "print('\\nMovie df memory: ',movies_df.memory_usage(deep = True).sum())\n",
    "print('\\nRating df memory: ',ratings_df.memory_usage(deep = True).sum())\n",
    "movies_df[movies_df.select_dtypes('int').columns] = movies_df.select_dtypes('int').astype('int32')\n",
    "\n",
    "if 'title' in movies_df.columns:\n",
    "    movies_df['title'] = movies_df['title'].astype('category')\n",
    "\n",
    "if 'year' in movies_df.columns: \n",
    "    movies_df['year'] = pd.to_datetime(movies_df['year'], errors='coerce')\n",
    "\n",
    "ratings_df[ratings_df.select_dtypes('int').columns] = ratings_df.select_dtypes('int').astype('int32')\n",
    "\n",
    "ratings_df[ratings_df.select_dtypes('float').columns] = ratings_df.select_dtypes('float').astype('float32')\n",
    "print('\\nMovie df memory: ',movies_df.memory_usage(deep = True).sum())\n",
    "print('\\nRating df memory: ',ratings_df.memory_usage(deep = True).sum(),'\\n')\n",
    "print(movies_df.dtypes)\n",
    "print(ratings_df.dtypes)"
   ]
  },
  {
   "cell_type": "markdown",
   "id": "e2e11bbe-56da-4a4f-9f4c-f93509308a76",
   "metadata": {},
   "source": [
    "### Exploratory Data Analysis (EDA)"
   ]
  },
  {
   "cell_type": "code",
   "execution_count": 30,
   "id": "9618ad2f-8a5c-4c7e-aa30-a44f87cc8b58",
   "metadata": {},
   "outputs": [
    {
     "name": "stdout",
     "output_type": "stream",
     "text": [
      "Total number of movies that are present are: 27278\n"
     ]
    }
   ],
   "source": [
    "total_movie_count = movies_df['movieId'].nunique()\n",
    "print(f\"Total number of movies that are present are: {total_movie_count}\")"
   ]
  },
  {
   "cell_type": "code",
   "execution_count": 31,
   "id": "37393ecc-76fa-430b-81e0-137d1490c110",
   "metadata": {},
   "outputs": [
    {
     "name": "stdout",
     "output_type": "stream",
     "text": [
      "Total Unique Customer in the dataset: 7120\n"
     ]
    }
   ],
   "source": [
    "customer_count = ratings_df['userId'].nunique()\n",
    "print(f\"Total Unique Customer in the dataset: {customer_count}\")"
   ]
  },
  {
   "cell_type": "code",
   "execution_count": 32,
   "id": "4235b6bb-a21f-43b1-8fb1-244096dcbc80",
   "metadata": {},
   "outputs": [
    {
     "data": {
      "text/plain": [
       "rating\n",
       "4.0    295135\n",
       "3.0    226202\n",
       "5.0    152562\n",
       "3.5    112926\n",
       "4.5     79848\n",
       "2.0     74706\n",
       "2.5     44791\n",
       "1.0     35144\n",
       "1.5     14029\n",
       "0.5     13232\n",
       "Name: count, dtype: int64"
      ]
     },
     "execution_count": 32,
     "metadata": {},
     "output_type": "execute_result"
    }
   ],
   "source": [
    "ratings_df['rating'].value_counts()"
   ]
  },
  {
   "cell_type": "code",
   "execution_count": 33,
   "id": "857e2c64-37a1-47cf-8398-09678ec4e364",
   "metadata": {},
   "outputs": [
    {
     "name": "stdout",
     "output_type": "stream",
     "text": [
      "\n",
      " Movies are between the year:  1970.0  to  1970.0 \n",
      "\n"
     ]
    }
   ],
   "source": [
    "print('\\n Movies are between the year: ',movies_df['year'].dt.year.min(), ' to ',movies_df['year'].dt.year.max(),'\\n')"
   ]
  },
  {
   "cell_type": "code",
   "execution_count": 34,
   "id": "49e00d06-93ad-4537-bb4a-3a545da717f5",
   "metadata": {},
   "outputs": [
    {
     "data": {
      "text/html": [
       "<div>\n",
       "<style scoped>\n",
       "    .dataframe tbody tr th:only-of-type {\n",
       "        vertical-align: middle;\n",
       "    }\n",
       "\n",
       "    .dataframe tbody tr th {\n",
       "        vertical-align: top;\n",
       "    }\n",
       "\n",
       "    .dataframe thead th {\n",
       "        text-align: right;\n",
       "    }\n",
       "</style>\n",
       "<table border=\"1\" class=\"dataframe\">\n",
       "  <thead>\n",
       "    <tr style=\"text-align: right;\">\n",
       "      <th></th>\n",
       "      <th>count</th>\n",
       "    </tr>\n",
       "    <tr>\n",
       "      <th>movieId</th>\n",
       "      <th></th>\n",
       "    </tr>\n",
       "  </thead>\n",
       "  <tbody>\n",
       "    <tr>\n",
       "      <th>1</th>\n",
       "      <td>2569</td>\n",
       "    </tr>\n",
       "    <tr>\n",
       "      <th>2</th>\n",
       "      <td>1155</td>\n",
       "    </tr>\n",
       "    <tr>\n",
       "      <th>3</th>\n",
       "      <td>685</td>\n",
       "    </tr>\n",
       "    <tr>\n",
       "      <th>4</th>\n",
       "      <td>138</td>\n",
       "    </tr>\n",
       "    <tr>\n",
       "      <th>5</th>\n",
       "      <td>657</td>\n",
       "    </tr>\n",
       "    <tr>\n",
       "      <th>...</th>\n",
       "      <td>...</td>\n",
       "    </tr>\n",
       "    <tr>\n",
       "      <th>130073</th>\n",
       "      <td>1</td>\n",
       "    </tr>\n",
       "    <tr>\n",
       "      <th>130219</th>\n",
       "      <td>1</td>\n",
       "    </tr>\n",
       "    <tr>\n",
       "      <th>130462</th>\n",
       "      <td>1</td>\n",
       "    </tr>\n",
       "    <tr>\n",
       "      <th>130490</th>\n",
       "      <td>2</td>\n",
       "    </tr>\n",
       "    <tr>\n",
       "      <th>130642</th>\n",
       "      <td>1</td>\n",
       "    </tr>\n",
       "  </tbody>\n",
       "</table>\n",
       "<p>14026 rows × 1 columns</p>\n",
       "</div>"
      ],
      "text/plain": [
       "         count\n",
       "movieId       \n",
       "1         2569\n",
       "2         1155\n",
       "3          685\n",
       "4          138\n",
       "5          657\n",
       "...        ...\n",
       "130073       1\n",
       "130219       1\n",
       "130462       1\n",
       "130490       2\n",
       "130642       1\n",
       "\n",
       "[14026 rows x 1 columns]"
      ]
     },
     "execution_count": 34,
     "metadata": {},
     "output_type": "execute_result"
    }
   ],
   "source": [
    "rated_movie_list = ratings_df.groupby(\"movieId\")[\"rating\"].agg([\"count\"])\n",
    "# movieId\trating\n",
    "rated_movie_list"
   ]
  },
  {
   "cell_type": "code",
   "execution_count": 35,
   "id": "68305802-ae8a-43b0-a63c-39884a990c0e",
   "metadata": {},
   "outputs": [],
   "source": [
    "rated_movie_list=rated_movie_list.reset_index()"
   ]
  },
  {
   "cell_type": "code",
   "execution_count": 36,
   "id": "e8ba3215-a1ef-43c6-a369-55f6cb5e7a4a",
   "metadata": {},
   "outputs": [
    {
     "data": {
      "text/html": [
       "<div>\n",
       "<style scoped>\n",
       "    .dataframe tbody tr th:only-of-type {\n",
       "        vertical-align: middle;\n",
       "    }\n",
       "\n",
       "    .dataframe tbody tr th {\n",
       "        vertical-align: top;\n",
       "    }\n",
       "\n",
       "    .dataframe thead th {\n",
       "        text-align: right;\n",
       "    }\n",
       "</style>\n",
       "<table border=\"1\" class=\"dataframe\">\n",
       "  <thead>\n",
       "    <tr style=\"text-align: right;\">\n",
       "      <th></th>\n",
       "      <th>movieId</th>\n",
       "      <th>count</th>\n",
       "      <th>title</th>\n",
       "      <th>genres</th>\n",
       "      <th>year</th>\n",
       "    </tr>\n",
       "  </thead>\n",
       "  <tbody>\n",
       "    <tr>\n",
       "      <th>290</th>\n",
       "      <td>296</td>\n",
       "      <td>3498</td>\n",
       "      <td>Pulp Fiction (1994)</td>\n",
       "      <td>[Comedy, Crime, Drama, Thriller]</td>\n",
       "      <td>1970-01-01 00:00:00.000001994</td>\n",
       "    </tr>\n",
       "    <tr>\n",
       "      <th>349</th>\n",
       "      <td>356</td>\n",
       "      <td>3476</td>\n",
       "      <td>Forrest Gump (1994)</td>\n",
       "      <td>[Comedy, Drama, Romance, War]</td>\n",
       "      <td>1970-01-01 00:00:00.000001994</td>\n",
       "    </tr>\n",
       "    <tr>\n",
       "      <th>581</th>\n",
       "      <td>593</td>\n",
       "      <td>3247</td>\n",
       "      <td>Silence of the Lambs, The (1991)</td>\n",
       "      <td>[Crime, Horror, Thriller]</td>\n",
       "      <td>1970-01-01 00:00:00.000001991</td>\n",
       "    </tr>\n",
       "    <tr>\n",
       "      <th>312</th>\n",
       "      <td>318</td>\n",
       "      <td>3216</td>\n",
       "      <td>Shawshank Redemption, The (1994)</td>\n",
       "      <td>[Crime, Drama]</td>\n",
       "      <td>1970-01-01 00:00:00.000001994</td>\n",
       "    </tr>\n",
       "    <tr>\n",
       "      <th>470</th>\n",
       "      <td>480</td>\n",
       "      <td>3129</td>\n",
       "      <td>Jurassic Park (1993)</td>\n",
       "      <td>[Action, Adventure, Sci-Fi, Thriller]</td>\n",
       "      <td>1970-01-01 00:00:00.000001993</td>\n",
       "    </tr>\n",
       "    <tr>\n",
       "      <th>254</th>\n",
       "      <td>260</td>\n",
       "      <td>2874</td>\n",
       "      <td>Star Wars: Episode IV - A New Hope (1977)</td>\n",
       "      <td>[Action, Adventure, Sci-Fi]</td>\n",
       "      <td>1970-01-01 00:00:00.000001977</td>\n",
       "    </tr>\n",
       "    <tr>\n",
       "      <th>107</th>\n",
       "      <td>110</td>\n",
       "      <td>2799</td>\n",
       "      <td>Braveheart (1995)</td>\n",
       "      <td>[Action, Drama, War]</td>\n",
       "      <td>1970-01-01 00:00:00.000001995</td>\n",
       "    </tr>\n",
       "    <tr>\n",
       "      <th>577</th>\n",
       "      <td>589</td>\n",
       "      <td>2711</td>\n",
       "      <td>Terminator 2: Judgment Day (1991)</td>\n",
       "      <td>[Action, Sci-Fi]</td>\n",
       "      <td>1970-01-01 00:00:00.000001991</td>\n",
       "    </tr>\n",
       "    <tr>\n",
       "      <th>2422</th>\n",
       "      <td>2571</td>\n",
       "      <td>2705</td>\n",
       "      <td>Matrix, The (1999)</td>\n",
       "      <td>[Action, Sci-Fi, Thriller]</td>\n",
       "      <td>1970-01-01 00:00:00.000001999</td>\n",
       "    </tr>\n",
       "    <tr>\n",
       "      <th>517</th>\n",
       "      <td>527</td>\n",
       "      <td>2598</td>\n",
       "      <td>Schindler's List (1993)</td>\n",
       "      <td>[Drama, War]</td>\n",
       "      <td>1970-01-01 00:00:00.000001993</td>\n",
       "    </tr>\n",
       "  </tbody>\n",
       "</table>\n",
       "</div>"
      ],
      "text/plain": [
       "      movieId  count                                      title  \\\n",
       "290       296   3498                        Pulp Fiction (1994)   \n",
       "349       356   3476                        Forrest Gump (1994)   \n",
       "581       593   3247           Silence of the Lambs, The (1991)   \n",
       "312       318   3216           Shawshank Redemption, The (1994)   \n",
       "470       480   3129                       Jurassic Park (1993)   \n",
       "254       260   2874  Star Wars: Episode IV - A New Hope (1977)   \n",
       "107       110   2799                          Braveheart (1995)   \n",
       "577       589   2711          Terminator 2: Judgment Day (1991)   \n",
       "2422     2571   2705                         Matrix, The (1999)   \n",
       "517       527   2598                    Schindler's List (1993)   \n",
       "\n",
       "                                     genres                          year  \n",
       "290        [Comedy, Crime, Drama, Thriller] 1970-01-01 00:00:00.000001994  \n",
       "349           [Comedy, Drama, Romance, War] 1970-01-01 00:00:00.000001994  \n",
       "581               [Crime, Horror, Thriller] 1970-01-01 00:00:00.000001991  \n",
       "312                          [Crime, Drama] 1970-01-01 00:00:00.000001994  \n",
       "470   [Action, Adventure, Sci-Fi, Thriller] 1970-01-01 00:00:00.000001993  \n",
       "254             [Action, Adventure, Sci-Fi] 1970-01-01 00:00:00.000001977  \n",
       "107                    [Action, Drama, War] 1970-01-01 00:00:00.000001995  \n",
       "577                        [Action, Sci-Fi] 1970-01-01 00:00:00.000001991  \n",
       "2422             [Action, Sci-Fi, Thriller] 1970-01-01 00:00:00.000001999  \n",
       "517                            [Drama, War] 1970-01-01 00:00:00.000001993  "
      ]
     },
     "execution_count": 36,
     "metadata": {},
     "output_type": "execute_result"
    }
   ],
   "source": [
    "rated_movie_list = pd.merge(rated_movie_list,movies_df,on='movieId')\n",
    "most_rated_top10 = rated_movie_list.nlargest(10,columns='count')\n",
    "most_rated_top10"
   ]
  },
  {
   "cell_type": "markdown",
   "id": "c79919cb-d92c-40b9-a308-e9203b3fe3cc",
   "metadata": {},
   "source": [
    "#### Statistical Understanding"
   ]
  },
  {
   "cell_type": "code",
   "execution_count": 39,
   "id": "befb070c-24ff-4051-b808-5b43ddf7ebc7",
   "metadata": {},
   "outputs": [
    {
     "name": "stdout",
     "output_type": "stream",
     "text": [
      "\n",
      "Movies Summary:\n"
     ]
    },
    {
     "data": {
      "text/html": [
       "<div>\n",
       "<style scoped>\n",
       "    .dataframe tbody tr th:only-of-type {\n",
       "        vertical-align: middle;\n",
       "    }\n",
       "\n",
       "    .dataframe tbody tr th {\n",
       "        vertical-align: top;\n",
       "    }\n",
       "\n",
       "    .dataframe thead th {\n",
       "        text-align: right;\n",
       "    }\n",
       "</style>\n",
       "<table border=\"1\" class=\"dataframe\">\n",
       "  <thead>\n",
       "    <tr style=\"text-align: right;\">\n",
       "      <th></th>\n",
       "      <th>count</th>\n",
       "      <th>unique</th>\n",
       "      <th>top</th>\n",
       "      <th>freq</th>\n",
       "      <th>mean</th>\n",
       "      <th>min</th>\n",
       "      <th>25%</th>\n",
       "      <th>50%</th>\n",
       "      <th>75%</th>\n",
       "      <th>max</th>\n",
       "      <th>std</th>\n",
       "    </tr>\n",
       "  </thead>\n",
       "  <tbody>\n",
       "    <tr>\n",
       "      <th>movieId</th>\n",
       "      <td>27278.0</td>\n",
       "      <td>NaN</td>\n",
       "      <td>NaN</td>\n",
       "      <td>NaN</td>\n",
       "      <td>59855.481</td>\n",
       "      <td>1.0</td>\n",
       "      <td>6931.25</td>\n",
       "      <td>68068.0</td>\n",
       "      <td>100293.25</td>\n",
       "      <td>131262.0</td>\n",
       "      <td>44429.315</td>\n",
       "    </tr>\n",
       "    <tr>\n",
       "      <th>title</th>\n",
       "      <td>27278</td>\n",
       "      <td>27262</td>\n",
       "      <td>Darling (2007)</td>\n",
       "      <td>2</td>\n",
       "      <td>NaN</td>\n",
       "      <td>NaN</td>\n",
       "      <td>NaN</td>\n",
       "      <td>NaN</td>\n",
       "      <td>NaN</td>\n",
       "      <td>NaN</td>\n",
       "      <td>NaN</td>\n",
       "    </tr>\n",
       "    <tr>\n",
       "      <th>genres</th>\n",
       "      <td>27278</td>\n",
       "      <td>1342</td>\n",
       "      <td>[Drama]</td>\n",
       "      <td>4520</td>\n",
       "      <td>NaN</td>\n",
       "      <td>NaN</td>\n",
       "      <td>NaN</td>\n",
       "      <td>NaN</td>\n",
       "      <td>NaN</td>\n",
       "      <td>NaN</td>\n",
       "      <td>NaN</td>\n",
       "    </tr>\n",
       "    <tr>\n",
       "      <th>year</th>\n",
       "      <td>27256</td>\n",
       "      <td>NaN</td>\n",
       "      <td>NaN</td>\n",
       "      <td>NaN</td>\n",
       "      <td>1970-01-01 00:00:00.000001989</td>\n",
       "      <td>1970-01-01 00:00:00.000001891</td>\n",
       "      <td>1970-01-01 00:00:00.000001976</td>\n",
       "      <td>1970-01-01 00:00:00.000001998</td>\n",
       "      <td>1970-01-01 00:00:00.000002008</td>\n",
       "      <td>1970-01-01 00:00:00.000002015</td>\n",
       "      <td>NaN</td>\n",
       "    </tr>\n",
       "  </tbody>\n",
       "</table>\n",
       "</div>"
      ],
      "text/plain": [
       "           count unique             top  freq                           mean  \\\n",
       "movieId  27278.0    NaN             NaN   NaN                      59855.481   \n",
       "title      27278  27262  Darling (2007)     2                            NaN   \n",
       "genres     27278   1342         [Drama]  4520                            NaN   \n",
       "year       27256    NaN             NaN   NaN  1970-01-01 00:00:00.000001989   \n",
       "\n",
       "                                   min                            25%  \\\n",
       "movieId                            1.0                        6931.25   \n",
       "title                              NaN                            NaN   \n",
       "genres                             NaN                            NaN   \n",
       "year     1970-01-01 00:00:00.000001891  1970-01-01 00:00:00.000001976   \n",
       "\n",
       "                                   50%                            75%  \\\n",
       "movieId                        68068.0                      100293.25   \n",
       "title                              NaN                            NaN   \n",
       "genres                             NaN                            NaN   \n",
       "year     1970-01-01 00:00:00.000001998  1970-01-01 00:00:00.000002008   \n",
       "\n",
       "                                   max        std  \n",
       "movieId                       131262.0  44429.315  \n",
       "title                              NaN        NaN  \n",
       "genres                             NaN        NaN  \n",
       "year     1970-01-01 00:00:00.000002015        NaN  "
      ]
     },
     "metadata": {},
     "output_type": "display_data"
    },
    {
     "name": "stdout",
     "output_type": "stream",
     "text": [
      "\n",
      "Ratings Summary:\n"
     ]
    },
    {
     "data": {
      "text/html": [
       "<div>\n",
       "<style scoped>\n",
       "    .dataframe tbody tr th:only-of-type {\n",
       "        vertical-align: middle;\n",
       "    }\n",
       "\n",
       "    .dataframe tbody tr th {\n",
       "        vertical-align: top;\n",
       "    }\n",
       "\n",
       "    .dataframe thead th {\n",
       "        text-align: right;\n",
       "    }\n",
       "</style>\n",
       "<table border=\"1\" class=\"dataframe\">\n",
       "  <thead>\n",
       "    <tr style=\"text-align: right;\">\n",
       "      <th></th>\n",
       "      <th>count</th>\n",
       "      <th>mean</th>\n",
       "      <th>std</th>\n",
       "      <th>min</th>\n",
       "      <th>25%</th>\n",
       "      <th>50%</th>\n",
       "      <th>75%</th>\n",
       "      <th>max</th>\n",
       "    </tr>\n",
       "  </thead>\n",
       "  <tbody>\n",
       "    <tr>\n",
       "      <th>userId</th>\n",
       "      <td>1048575.0</td>\n",
       "      <td>3.527086e+03</td>\n",
       "      <td>2.018424e+03</td>\n",
       "      <td>1.0</td>\n",
       "      <td>1813.0</td>\n",
       "      <td>3.540000e+03</td>\n",
       "      <td>5.233000e+03</td>\n",
       "      <td>7.120000e+03</td>\n",
       "    </tr>\n",
       "    <tr>\n",
       "      <th>movieId</th>\n",
       "      <td>1048575.0</td>\n",
       "      <td>8.648988e+03</td>\n",
       "      <td>1.910014e+04</td>\n",
       "      <td>1.0</td>\n",
       "      <td>903.0</td>\n",
       "      <td>2.143000e+03</td>\n",
       "      <td>4.641000e+03</td>\n",
       "      <td>1.306420e+05</td>\n",
       "    </tr>\n",
       "    <tr>\n",
       "      <th>rating</th>\n",
       "      <td>1048575.0</td>\n",
       "      <td>3.529000e+00</td>\n",
       "      <td>1.052000e+00</td>\n",
       "      <td>0.5</td>\n",
       "      <td>3.0</td>\n",
       "      <td>4.000000e+00</td>\n",
       "      <td>4.000000e+00</td>\n",
       "      <td>5.000000e+00</td>\n",
       "    </tr>\n",
       "    <tr>\n",
       "      <th>timestamp</th>\n",
       "      <td>1048575.0</td>\n",
       "      <td>1.096036e+09</td>\n",
       "      <td>1.594899e+08</td>\n",
       "      <td>825499934.0</td>\n",
       "      <td>965838177.0</td>\n",
       "      <td>1.099263e+09</td>\n",
       "      <td>1.217407e+09</td>\n",
       "      <td>1.427764e+09</td>\n",
       "    </tr>\n",
       "  </tbody>\n",
       "</table>\n",
       "</div>"
      ],
      "text/plain": [
       "               count          mean           std          min          25%  \\\n",
       "userId     1048575.0  3.527086e+03  2.018424e+03          1.0       1813.0   \n",
       "movieId    1048575.0  8.648988e+03  1.910014e+04          1.0        903.0   \n",
       "rating     1048575.0  3.529000e+00  1.052000e+00          0.5          3.0   \n",
       "timestamp  1048575.0  1.096036e+09  1.594899e+08  825499934.0  965838177.0   \n",
       "\n",
       "                    50%           75%           max  \n",
       "userId     3.540000e+03  5.233000e+03  7.120000e+03  \n",
       "movieId    2.143000e+03  4.641000e+03  1.306420e+05  \n",
       "rating     4.000000e+00  4.000000e+00  5.000000e+00  \n",
       "timestamp  1.099263e+09  1.217407e+09  1.427764e+09  "
      ]
     },
     "metadata": {},
     "output_type": "display_data"
    }
   ],
   "source": [
    "print(\"\\nMovies Summary:\")\n",
    "display(movies_df.describe(include='all').round(3).T)\n",
    "print(\"\\nRatings Summary:\")\n",
    "display(ratings_df.describe().round(3).T)"
   ]
  },
  {
   "cell_type": "markdown",
   "id": "d5c22a42-ff1f-46c8-8ebc-3e0c6f4cb876",
   "metadata": {},
   "source": [
    "#### Univariate Analysis"
   ]
  },
  {
   "cell_type": "code",
   "execution_count": 41,
   "id": "60001592-04d9-4af9-bcc7-c98601143f0b",
   "metadata": {},
   "outputs": [
    {
     "name": "stdout",
     "output_type": "stream",
     "text": [
      "\n",
      "Unique Movie Genres:\n"
     ]
    },
    {
     "data": {
      "image/png": "[encoded data removed]",
      "text/plain": [
       "<Figure size 640x480 with 1 Axes>"
      ]
     },
     "metadata": {},
     "output_type": "display_data"
    }
   ],
   "source": [
    "print(\"\\nUnique Movie Genres:\")\n",
    "movies_df_expanded['genres'].value_counts().plot(kind='barh',color='cyan')\n",
    "plt.show()"
   ]
  },
  {
   "cell_type": "code",
   "execution_count": 42,
   "id": "12a4fc77-fa5e-47ad-8870-2dd461fc8779",
   "metadata": {},
   "outputs": [
    {
     "name": "stdout",
     "output_type": "stream",
     "text": [
      "\n",
      "Rating Distribution:\n",
      "\n",
      "Total ratings:  1048575\n"
     ]
    },
    {
     "data": {
      "image/png": "[encoded data removed]",
      "text/plain": [
       "<Figure size 640x480 with 1 Axes>"
      ]
     },
     "metadata": {},
     "output_type": "display_data"
    }
   ],
   "source": [
    "print(\"\\nRating Distribution:\")\n",
    "print(\"\\nTotal ratings: \",ratings_df['rating'].count())\n",
    "ratings_df['rating'].value_counts().plot(kind='pie')\n",
    "plt.show()"
   ]
  },
  {
   "cell_type": "markdown",
   "id": "6d9e41b7-7903-4cef-bfdd-e12307920c17",
   "metadata": {},
   "source": [
    "#### Bivariate Analysis"
   ]
  },
  {
   "cell_type": "code",
   "execution_count": 44,
   "id": "803e0278-8155-4cfe-b479-4f50ad6895ad",
   "metadata": {},
   "outputs": [
    {
     "name": "stdout",
     "output_type": "stream",
     "text": [
      "\n",
      "Average Rating per Movie:\n",
      "movieId\n",
      "95218    5.0\n",
      "1706     5.0\n",
      "7330     5.0\n",
      "134      5.0\n",
      "60227    5.0\n",
      "Name: rating, dtype: float32\n"
     ]
    }
   ],
   "source": [
    "print(\"\\nAverage Rating per Movie:\")\n",
    "avg_ratings = ratings_df.groupby('movieId')['rating'].mean()\n",
    "print(avg_ratings.sort_values(ascending=False).head())"
   ]
  },
  {
   "cell_type": "markdown",
   "id": "41b935de-8ab8-4b39-9ac5-5d570ea43f43",
   "metadata": {},
   "source": [
    "#### Data Transformation"
   ]
  },
  {
   "cell_type": "code",
   "execution_count": 46,
   "id": "cfb953a7-2ed9-4670-af7f-ee5ff54d512a",
   "metadata": {},
   "outputs": [
    {
     "data": {
      "text/plain": [
       "0        1995\n",
       "1        1995\n",
       "2        1995\n",
       "3        1995\n",
       "4        1995\n",
       "         ... \n",
       "27273    2007\n",
       "27274    2002\n",
       "27275    2014\n",
       "27276    2001\n",
       "27277    2014\n",
       "Name: title, Length: 27278, dtype: object"
      ]
     },
     "execution_count": 46,
     "metadata": {},
     "output_type": "execute_result"
    }
   ],
   "source": [
    "movies_df['title'].str.extract(r'\\((\\d{4})\\)', expand=False)"
   ]
  },
  {
   "cell_type": "markdown",
   "id": "68eb24cf-c7b6-4e8f-bed3-a79ff26184c3",
   "metadata": {},
   "source": [
    "### Model Selection and Metric Evaluation"
   ]
  },
  {
   "cell_type": "code",
   "execution_count": 49,
   "id": "9b8941a5-41a3-4cbc-bf1c-63d47c82a6a6",
   "metadata": {},
   "outputs": [],
   "source": [
    "# Using Surprise Library for Collaborative Filtering\n",
    "\n",
    "reader = Reader(rating_scale=(0.5, 5))\n",
    "data = Dataset.load_from_df(ratings_df[['userId', 'movieId', 'rating']], reader)\n",
    "\n",
    "# 3.1. Model Selection: SVD (Matrix Factorization)\n",
    "svd = SVD()"
   ]
  },
  {
   "cell_type": "markdown",
   "id": "e29d5797-3b40-4499-893a-0f9d4ab8b73d",
   "metadata": {},
   "source": [
    "#### Cross-Validation"
   ]
  },
  {
   "cell_type": "code",
   "execution_count": 51,
   "id": "90e7e269-2a46-4ab4-a82f-61a0fa6012e0",
   "metadata": {},
   "outputs": [
    {
     "name": "stdout",
     "output_type": "stream",
     "text": [
      "Evaluating RMSE, MAE of algorithm SVD on 5 split(s).\n",
      "\n",
      "                  Fold 1  Fold 2  Fold 3  Fold 4  Fold 5  Mean    Std     \n",
      "RMSE (testset)    0.8350  0.8322  0.8343  0.8342  0.8305  0.8332  0.0017  \n",
      "MAE (testset)     0.6394  0.6361  0.6382  0.6387  0.6348  0.6374  0.0017  \n",
      "Fit time          13.08   13.57   12.38   12.11   12.64   12.75   0.52    \n",
      "Test time         1.63    4.42    2.27    2.03    2.04    2.48    0.99    \n"
     ]
    }
   ],
   "source": [
    "cv_results = cross_validate(svd, data, measures=['RMSE', 'MAE'], cv=5, verbose=True)"
   ]
  },
  {
   "cell_type": "markdown",
   "id": "2ad63381-2607-4a52-a04e-739d354bf4f7",
   "metadata": {},
   "source": [
    "#### Hyperparameter Tuning"
   ]
  },
  {
   "cell_type": "code",
   "execution_count": 53,
   "id": "f110072a-e8c3-4c76-84bb-3d2a8b3fcd98",
   "metadata": {},
   "outputs": [
    {
     "name": "stdout",
     "output_type": "stream",
     "text": [
      "\n",
      "Best RMSE: 0.8429666626449407\n",
      "Best Parameters: {'n_factors': 50, 'n_epochs': 20, 'lr_all': 0.005}\n"
     ]
    }
   ],
   "source": [
    "param_grid = {'n_factors': [50, 100, 150], 'n_epochs': [20, 30], 'lr_all': [0.005, 0.01]}\n",
    "gs = GridSearchCV(SVD, param_grid, measures=['rmse', 'mae'], cv=3)\n",
    "gs.fit(data)\n",
    "\n",
    "print(\"\\nBest RMSE:\", gs.best_score['rmse'])\n",
    "print(\"Best Parameters:\", gs.best_params['rmse'])"
   ]
  },
  {
   "cell_type": "markdown",
   "id": "ab9e7f56-79f7-472d-92d3-93ff824e2c7e",
   "metadata": {},
   "source": [
    "#### Best Parameter Selection"
   ]
  },
  {
   "cell_type": "code",
   "execution_count": 55,
   "id": "69523e25-88ae-4d2b-b663-1cec028f9554",
   "metadata": {},
   "outputs": [],
   "source": [
    "best_params = gs.best_params['rmse']"
   ]
  },
  {
   "cell_type": "markdown",
   "id": "f608004d-7ad0-4fe4-8916-079a297a2f1f",
   "metadata": {},
   "source": [
    "### Best Model Creation and Training"
   ]
  },
  {
   "cell_type": "code",
   "execution_count": 57,
   "id": "0df6383b-0be2-42a5-a4fd-de35deb0c51a",
   "metadata": {},
   "outputs": [],
   "source": [
    "best_svd = SVD(**best_params)\n",
    "trainset = data.build_full_trainset()\n",
    "best_svd.fit(trainset)"
   ]
  },
  {
   "cell_type": "markdown",
   "id": "2500708d-bcfe-4aaa-8dd8-9e1ec7d03ba6",
   "metadata": {},
   "source": [
    "### Model Persistence (Serialization)"
   ]
  },
  {
   "cell_type": "code",
   "execution_count": 59,
   "id": "a333d8b7-4748-4b43-8b88-af80c2aee6c3",
   "metadata": {},
   "outputs": [],
   "source": [
    "pickle.dump(best_svd, open('recommendation_model.pkl', 'wb'))"
   ]
  },
  {
   "cell_type": "markdown",
   "id": "66b4d326-40e3-4ec9-adb0-d448d7584ded",
   "metadata": {},
   "source": [
    "### Insight Aggregation and Interpretation"
   ]
  },
  {
   "cell_type": "code",
   "execution_count": 61,
   "id": "d91cef91-0bbd-4e16-9be0-4ae80852b10f",
   "metadata": {},
   "outputs": [],
   "source": [
    "def get_top_n_recommendations(user_id, ratings_df, movies_df, model_path='recommendation_model.pkl', n=10):\n",
    "    \"\"\"Get top n movie recommendations for a user, loading the model from a pickle file.\"\"\"\n",
    "    try:\n",
    "        with open(model_path, 'rb') as file:\n",
    "            best_svd = pickle.load(file)\n",
    "    except FileNotFoundError:\n",
    "        print(f\"Error: Model file '{model_path}' not found.\")\n",
    "        return None\n",
    "    except Exception as e:\n",
    "        print(f\"Error loading model: {e}\")\n",
    "        return None\n",
    "\n",
    "    movie_ids = ratings_df['movieId'].unique()\n",
    "    rated_movie_ids = ratings_df[ratings_df['userId'] == user_id]['movieId'].unique()\n",
    "    unrated_movie_ids = [movie_id for movie_id in movie_ids if movie_id not in rated_movie_ids]\n",
    "\n",
    "    predictions = [best_svd.predict(user_id, movie_id) for movie_id in unrated_movie_ids]\n",
    "    predictions.sort(key=lambda x: x.est, reverse=True)\n",
    "\n",
    "    top_n_movie_ids = [prediction.iid for prediction in predictions[:n]]\n",
    "    top_n_movies = movies_df[movies_df['movieId'].isin(top_n_movie_ids)]\n",
    "    return top_n_movies[['movieId', 'title']]"
   ]
  },
  {
   "cell_type": "code",
   "execution_count": 62,
   "id": "39270180-00d9-4ad8-b365-95fab5954336",
   "metadata": {},
   "outputs": [
    {
     "name": "stdin",
     "output_type": "stream",
     "text": [
      "Enter User ID 1\n"
     ]
    },
    {
     "name": "stdout",
     "output_type": "stream",
     "text": [
      "\n",
      "Top Recommendations for User 1 :\n",
      "        movieId                                              title\n",
      "661        670             World of Apu, The (Apur Sansar) (1959)\n",
      "2849      2935                               Lady Eve, The (1941)\n",
      "5473      5570                              Thesis (Tesis) (1996)\n",
      "6172      6271          Day for Night (La Nuit Américaine) (1973)\n",
      "6859      6971                           Europa (Zentropa) (1991)\n",
      "6873      6985  Passion of Joan of Arc, The (Passion de Jeanne...\n",
      "7464      7767     Best of Youth, The (La meglio gioventù) (2003)\n",
      "8937     26587                    Decalogue, The (Dekalog) (1989)\n",
      "18528    92259                                Intouchables (2011)\n",
      "18990    94466                                Black Mirror (2011)\n"
     ]
    }
   ],
   "source": [
    "user_id_to_recommend = int(input('Enter User ID'))#1\n",
    "top_recommendations = get_top_n_recommendations(user_id_to_recommend, ratings_df, movies_df)\n",
    "\n",
    "if top_recommendations is not None:\n",
    "    print(\"\\nTop Recommendations for User\", user_id_to_recommend, \":\\n\", top_recommendations)\n",
    "else:\n",
    "    print(\"\\nNo Recommendations for User\")"
   ]
  },
  {
   "cell_type": "markdown",
   "id": "b7dfbfe6-6540-4af3-b266-3d95de419ced",
   "metadata": {},
   "source": [
    "### Inference"
   ]
  },
  {
   "cell_type": "markdown",
   "id": "950ce295-878e-4e7e-a289-981ff07f4925",
   "metadata": {},
   "source": [
    "## 1. Find out the list of most popular and liked genre\n"
   ]
  },
  {
   "cell_type": "code",
   "execution_count": 65,
   "id": "4706cc5b-1d50-4c3b-b365-a47af40792b1",
   "metadata": {},
   "outputs": [
    {
     "name": "stdout",
     "output_type": "stream",
     "text": [
      "\n",
      "List of Most Popular Movie Genres:\n"
     ]
    },
    {
     "data": {
      "text/plain": [
       "genres\n",
       "Drama                 13344\n",
       "Comedy                 8374\n",
       "Thriller               4178\n",
       "Romance                4127\n",
       "Action                 3520\n",
       "Crime                  2939\n",
       "Horror                 2611\n",
       "Documentary            2471\n",
       "Adventure              2329\n",
       "Sci-Fi                 1743\n",
       "Mystery                1514\n",
       "Fantasy                1412\n",
       "War                    1194\n",
       "Children               1139\n",
       "Musical                1036\n",
       "Animation              1027\n",
       "Western                 676\n",
       "Film-Noir               330\n",
       "(no genres listed)      246\n",
       "IMAX                    196\n",
       "Name: count, dtype: int64"
      ]
     },
     "execution_count": 65,
     "metadata": {},
     "output_type": "execute_result"
    }
   ],
   "source": [
    "print(\"\\nList of Most Popular Movie Genres:\")\n",
    "movies_df_expanded['genres'].value_counts()"
   ]
  },
  {
   "cell_type": "code",
   "execution_count": 66,
   "id": "57b239a0-4a98-49f2-8708-3e636f477ad5",
   "metadata": {},
   "outputs": [
    {
     "name": "stdout",
     "output_type": "stream",
     "text": [
      "\n",
      "List of Most Liked Movie Genres:\n"
     ]
    },
    {
     "data": {
      "text/html": [
       "<div>\n",
       "<style scoped>\n",
       "    .dataframe tbody tr th:only-of-type {\n",
       "        vertical-align: middle;\n",
       "    }\n",
       "\n",
       "    .dataframe tbody tr th {\n",
       "        vertical-align: top;\n",
       "    }\n",
       "\n",
       "    .dataframe thead th {\n",
       "        text-align: right;\n",
       "    }\n",
       "</style>\n",
       "<table border=\"1\" class=\"dataframe\">\n",
       "  <thead>\n",
       "    <tr style=\"text-align: right;\">\n",
       "      <th></th>\n",
       "      <th>genres</th>\n",
       "      <th>Average Rating</th>\n",
       "      <th>Rating Count</th>\n",
       "    </tr>\n",
       "  </thead>\n",
       "  <tbody>\n",
       "    <tr>\n",
       "      <th>10</th>\n",
       "      <td>Film-Noir</td>\n",
       "      <td>3.956143</td>\n",
       "      <td>11241</td>\n",
       "    </tr>\n",
       "    <tr>\n",
       "      <th>18</th>\n",
       "      <td>War</td>\n",
       "      <td>3.821342</td>\n",
       "      <td>54347</td>\n",
       "    </tr>\n",
       "    <tr>\n",
       "      <th>7</th>\n",
       "      <td>Documentary</td>\n",
       "      <td>3.758738</td>\n",
       "      <td>12675</td>\n",
       "    </tr>\n",
       "    <tr>\n",
       "      <th>6</th>\n",
       "      <td>Crime</td>\n",
       "      <td>3.683701</td>\n",
       "      <td>171866</td>\n",
       "    </tr>\n",
       "    <tr>\n",
       "      <th>8</th>\n",
       "      <td>Drama</td>\n",
       "      <td>3.678378</td>\n",
       "      <td>461704</td>\n",
       "    </tr>\n",
       "    <tr>\n",
       "      <th>14</th>\n",
       "      <td>Mystery</td>\n",
       "      <td>3.665257</td>\n",
       "      <td>82157</td>\n",
       "    </tr>\n",
       "    <tr>\n",
       "      <th>12</th>\n",
       "      <td>IMAX</td>\n",
       "      <td>3.656697</td>\n",
       "      <td>25527</td>\n",
       "    </tr>\n",
       "    <tr>\n",
       "      <th>3</th>\n",
       "      <td>Animation</td>\n",
       "      <td>3.608345</td>\n",
       "      <td>59117</td>\n",
       "    </tr>\n",
       "    <tr>\n",
       "      <th>19</th>\n",
       "      <td>Western</td>\n",
       "      <td>3.573439</td>\n",
       "      <td>22488</td>\n",
       "    </tr>\n",
       "    <tr>\n",
       "      <th>13</th>\n",
       "      <td>Musical</td>\n",
       "      <td>3.550363</td>\n",
       "      <td>45788</td>\n",
       "    </tr>\n",
       "  </tbody>\n",
       "</table>\n",
       "</div>"
      ],
      "text/plain": [
       "         genres  Average Rating  Rating Count\n",
       "10    Film-Noir        3.956143         11241\n",
       "18          War        3.821342         54347\n",
       "7   Documentary        3.758738         12675\n",
       "6         Crime        3.683701        171866\n",
       "8         Drama        3.678378        461704\n",
       "14      Mystery        3.665257         82157\n",
       "12         IMAX        3.656697         25527\n",
       "3     Animation        3.608345         59117\n",
       "19      Western        3.573439         22488\n",
       "13      Musical        3.550363         45788"
      ]
     },
     "execution_count": 66,
     "metadata": {},
     "output_type": "execute_result"
    }
   ],
   "source": [
    "print(\"\\nList of Most Liked Movie Genres:\")\n",
    "merged_data = pd.merge(ratings_df, movies_df_expanded, on='movieId')\n",
    "genre_ratings = merged_data.groupby('genres')['rating'].agg(['mean', 'count'])\n",
    "genre_ratings.columns = ['Average Rating', 'Rating Count']\n",
    "genre_ratings = genre_ratings.reset_index()\n",
    "genre_ratings.sort_values(['Average Rating','Rating Count'], ascending=False).head(10)"
   ]
  },
  {
   "cell_type": "markdown",
   "id": "643c48ad-d392-445d-82bb-535461b8e4be",
   "metadata": {},
   "source": [
    "## 2. Create Model that finds the best suited Movie for one user in every genre.\n"
   ]
  },
  {
   "cell_type": "code",
   "execution_count": 85,
   "id": "78cdbf84-0657-487e-ab64-d552aa336708",
   "metadata": {},
   "outputs": [],
   "source": [
    "model_path='recommendation_model.pkl'\n",
    "try:\n",
    "    with open(model_path, 'rb') as file:\n",
    "        model = pickle.load(file)\n",
    "except FileNotFoundError:\n",
    "    print(f\"Error: Model file '{model_path}' not found.\")\n",
    "    None\n",
    "except Exception as e:\n",
    "    print(f\"Error loading model: {e}\")\n",
    "    None"
   ]
  },
  {
   "cell_type": "code",
   "execution_count": 86,
   "id": "4f390868-2063-4b7b-abf0-8dd91e54c988",
   "metadata": {},
   "outputs": [],
   "source": [
    "genre_map = movies_df_expanded.set_index('movieId')['genres'].to_dict()\n",
    "all_movies = movies_df[['movieId', 'title']]\n",
    "def get_genre_recommendations(user_id, n=5):\n",
    "    # Get all movies not rated by user\n",
    "    rated_movies = ratings_df[ratings_df['userId'] == user_id]['movieId']\n",
    "    unrated_movies = all_movies[~all_movies['movieId'].isin(rated_movies)]\n",
    "    \n",
    "    # Predict ratings\n",
    "    predictions = []\n",
    "    for movie_id in unrated_movies['movieId']:\n",
    "        pred = model.predict(user_id, movie_id)\n",
    "        predictions.append({\n",
    "            'movieId': movie_id,\n",
    "            'pred_rating': pred.est,\n",
    "            'genres': genre_map.get(movie_id, [])\n",
    "        })\n",
    "    \n",
    "    # Create recommendations per genre\n",
    "    pred_df = pd.DataFrame(predictions).explode('genres')\n",
    "    best_per_genre = pred_df.groupby('genres').apply(\n",
    "        lambda x: x.nlargest(1, 'pred_rating')\n",
    "    ).reset_index(drop=True)\n",
    "    \n",
    "    return best_per_genre[['genres', 'movieId', 'pred_rating']]"
   ]
  },
  {
   "cell_type": "code",
   "execution_count": 91,
   "id": "94968fba-0809-4712-acee-2c7cf99c1e7f",
   "metadata": {},
   "outputs": [
    {
     "name": "stdout",
     "output_type": "stream",
     "text": [
      "Welcome to movie recommender!\n"
     ]
    },
    {
     "name": "stdin",
     "output_type": "stream",
     "text": [
      "Provide the User ID:  1\n"
     ]
    },
    {
     "name": "stdout",
     "output_type": "stream",
     "text": [
      "\n",
      "Recommended movies per genre for user 1:\n",
      "                genres  movieId  pred_rating\n",
      "15             Romance     6271     4.615749\n",
      "16              Sci-Fi    94466     4.603606\n",
      "17            Thriller     6971     4.569341\n",
      "8                Drama     6985     4.553010\n",
      "18                 War      527     4.487522\n",
      "9              Fantasy    27251     4.448299\n",
      "12                IMAX    89745     4.439915\n",
      "13             Musical     2859     4.413657\n",
      "10           Film-Noir     4432     4.408849\n",
      "7          Documentary      116     4.407747\n",
      "5               Comedy   108583     4.397157\n",
      "14             Mystery      824     4.351238\n",
      "19             Western     6422     4.302792\n",
      "11              Horror    73759     4.281594\n",
      "3            Animation    99813     4.255601\n",
      "6                Crime      950     4.245997\n",
      "1               Action     7899     4.200499\n",
      "2            Adventure     5244     4.128175\n",
      "4             Children   112006     4.040750\n",
      "0   (no genres listed)   126560     3.737518\n",
      "\n",
      "Enjoy your movies!!!\n"
     ]
    },
    {
     "name": "stderr",
     "output_type": "stream",
     "text": [
      "C:\\Users\\Avinash Mishra\\AppData\\Local\\Temp\\ipykernel_21496\\1061947266.py:20: DeprecationWarning: DataFrameGroupBy.apply operated on the grouping columns. This behavior is deprecated, and in a future version of pandas the grouping columns will be excluded from the operation. Either pass `include_groups=False` to exclude the groupings or explicitly select the grouping columns after groupby to silence this warning.\n",
      "  best_per_genre = pred_df.groupby('genres').apply(\n"
     ]
    }
   ],
   "source": [
    "print('Welcome to movie recommender!')\n",
    "user_id = int(input('Provide the User ID: '))\n",
    "recommendations = get_genre_recommendations(user_id)\n",
    "if recommendations is not None:\n",
    "    print(f\"\\nRecommended movies per genre for user {user_id}:\")\n",
    "    print(recommendations.sort_values('pred_rating',ascending = False))\n",
    "    print('\\nEnjoy your movies!!!')\n",
    "else:\n",
    "    print(f\"\\nNo Recommendations for User {user_id}\")\n",
    "    print('Try Again!')\n"
   ]
  },
  {
   "cell_type": "markdown",
   "id": "1773fd2b-cb7f-4e37-87cd-81b327e9d859",
   "metadata": {},
   "source": [
    "## 3. Find what Genre Movies have received the best and worst ratings based on User Rating."
   ]
  },
  {
   "cell_type": "code",
   "execution_count": 93,
   "id": "69875b4c-3f2a-4aed-8d56-8de822675f3f",
   "metadata": {},
   "outputs": [
    {
     "name": "stdout",
     "output_type": "stream",
     "text": [
      "\n",
      "Best Rated Genres:\n",
      "\n"
     ]
    },
    {
     "data": {
      "text/html": [
       "<div>\n",
       "<style scoped>\n",
       "    .dataframe tbody tr th:only-of-type {\n",
       "        vertical-align: middle;\n",
       "    }\n",
       "\n",
       "    .dataframe tbody tr th {\n",
       "        vertical-align: top;\n",
       "    }\n",
       "\n",
       "    .dataframe thead th {\n",
       "        text-align: right;\n",
       "    }\n",
       "</style>\n",
       "<table border=\"1\" class=\"dataframe\">\n",
       "  <thead>\n",
       "    <tr style=\"text-align: right;\">\n",
       "      <th></th>\n",
       "      <th>genres</th>\n",
       "      <th>Average Rating</th>\n",
       "      <th>Rating Count</th>\n",
       "    </tr>\n",
       "  </thead>\n",
       "  <tbody>\n",
       "    <tr>\n",
       "      <th>10</th>\n",
       "      <td>Film-Noir</td>\n",
       "      <td>3.956143</td>\n",
       "      <td>11241</td>\n",
       "    </tr>\n",
       "    <tr>\n",
       "      <th>18</th>\n",
       "      <td>War</td>\n",
       "      <td>3.821342</td>\n",
       "      <td>54347</td>\n",
       "    </tr>\n",
       "    <tr>\n",
       "      <th>7</th>\n",
       "      <td>Documentary</td>\n",
       "      <td>3.758738</td>\n",
       "      <td>12675</td>\n",
       "    </tr>\n",
       "    <tr>\n",
       "      <th>6</th>\n",
       "      <td>Crime</td>\n",
       "      <td>3.683701</td>\n",
       "      <td>171866</td>\n",
       "    </tr>\n",
       "    <tr>\n",
       "      <th>8</th>\n",
       "      <td>Drama</td>\n",
       "      <td>3.678378</td>\n",
       "      <td>461704</td>\n",
       "    </tr>\n",
       "  </tbody>\n",
       "</table>\n",
       "</div>"
      ],
      "text/plain": [
       "         genres  Average Rating  Rating Count\n",
       "10    Film-Noir        3.956143         11241\n",
       "18          War        3.821342         54347\n",
       "7   Documentary        3.758738         12675\n",
       "6         Crime        3.683701        171866\n",
       "8         Drama        3.678378        461704"
      ]
     },
     "metadata": {},
     "output_type": "display_data"
    },
    {
     "name": "stdout",
     "output_type": "stream",
     "text": [
      "\n",
      "Worst Rated Genres:\n",
      "\n"
     ]
    },
    {
     "data": {
      "text/html": [
       "<div>\n",
       "<style scoped>\n",
       "    .dataframe tbody tr th:only-of-type {\n",
       "        vertical-align: middle;\n",
       "    }\n",
       "\n",
       "    .dataframe tbody tr th {\n",
       "        vertical-align: top;\n",
       "    }\n",
       "\n",
       "    .dataframe thead th {\n",
       "        text-align: right;\n",
       "    }\n",
       "</style>\n",
       "<table border=\"1\" class=\"dataframe\">\n",
       "  <thead>\n",
       "    <tr style=\"text-align: right;\">\n",
       "      <th></th>\n",
       "      <th>genres</th>\n",
       "      <th>Average Rating</th>\n",
       "      <th>Rating Count</th>\n",
       "    </tr>\n",
       "  </thead>\n",
       "  <tbody>\n",
       "    <tr>\n",
       "      <th>0</th>\n",
       "      <td>(no genres listed)</td>\n",
       "      <td>3.071429</td>\n",
       "      <td>7</td>\n",
       "    </tr>\n",
       "    <tr>\n",
       "      <th>11</th>\n",
       "      <td>Horror</td>\n",
       "      <td>3.262442</td>\n",
       "      <td>77518</td>\n",
       "    </tr>\n",
       "    <tr>\n",
       "      <th>4</th>\n",
       "      <td>Children</td>\n",
       "      <td>3.404140</td>\n",
       "      <td>87101</td>\n",
       "    </tr>\n",
       "    <tr>\n",
       "      <th>5</th>\n",
       "      <td>Comedy</td>\n",
       "      <td>3.432287</td>\n",
       "      <td>395994</td>\n",
       "    </tr>\n",
       "    <tr>\n",
       "      <th>16</th>\n",
       "      <td>Sci-Fi</td>\n",
       "      <td>3.434519</td>\n",
       "      <td>166024</td>\n",
       "    </tr>\n",
       "  </tbody>\n",
       "</table>\n",
       "</div>"
      ],
      "text/plain": [
       "                genres  Average Rating  Rating Count\n",
       "0   (no genres listed)        3.071429             7\n",
       "11              Horror        3.262442         77518\n",
       "4             Children        3.404140         87101\n",
       "5               Comedy        3.432287        395994\n",
       "16              Sci-Fi        3.434519        166024"
      ]
     },
     "metadata": {},
     "output_type": "display_data"
    }
   ],
   "source": [
    "print(\"\\nBest Rated Genres:\\n\")\n",
    "display(genre_ratings.sort_values('Average Rating', ascending=False).head(5))\n",
    "print(\"\\nWorst Rated Genres:\\n\")\n",
    "display(genre_ratings.sort_values('Average Rating').head(5))"
   ]
  },
  {
   "cell_type": "code",
   "execution_count": null,
   "id": "c32eb29d-ab22-4a88-a3a2-717f5b8a0a40",
   "metadata": {},
   "outputs": [],
   "source": []
  }
 ],
 "metadata": {
  "kernelspec": {
   "display_name": "Python 3 (ipykernel)",
   "language": "python",
   "name": "python3"
  },
  "language_info": {
   "codemirror_mode": {
    "name": "ipython",
    "version": 3
   },
   "file_extension": ".py",
   "mimetype": "text/x-python",
   "name": "python",
   "nbconvert_exporter": "python",
   "pygments_lexer": "ipython3",
   "version": "3.11.7"
  }
 },
 "nbformat": 4,
 "nbformat_minor": 5
}
